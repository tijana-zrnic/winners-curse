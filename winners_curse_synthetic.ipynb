{
 "cells": [
  {
   "cell_type": "markdown",
   "id": "e2e65b06",
   "metadata": {},
   "source": [
    "# Inference on the winner"
   ]
  },
  {
   "cell_type": "markdown",
   "id": "5ed1d475",
   "metadata": {},
   "source": [
    "We study the problem of drawing reliable conclusions about the winner: $\\hat{\\imath} = \\underset{i\\in[m]}{\\text{argmax}} \\ X_i$, where $X_1,\\dots,X_m$ are $m$ competing candidates.\n",
    "\n",
    "We compare conditional inference due to Lee et al. [1], hybrid inference due to Andrews et al. [2], locally simultaneous inference due to Zrnic and Fithian [3], simultaneous inference over the selected (SoS) due to Benjamini et al. [4], and the zoom correction.\n",
    "\n",
    "[1] Lee, J. D., Sun, D. L., Sun, Y., & Taylor, J. E. (2016). Exact post-selection inference, with application to the lasso. Annals of Statistics, 44(3), 907-927.\n",
    "\n",
    "[2] Andrews, I., Kitagawa, T., & McCloskey, A. (2024). Inference on winners. Quarterly Journal of Economics, 139(1), 305-358.\n",
    "\n",
    "[3] Zrnic, T., & Fithian, W. (2024). Locally simultaneous inference. Annals of Statistics, 52(3), 1227-1253.\n",
    "\n",
    "[4] Benjamini, Y., Hechtlinger, Y., & Stark, P. B. (2019). Confidence intervals for selected parameters. arXiv preprint arXiv:1906.00505."
   ]
  },
  {
   "cell_type": "code",
   "execution_count": null,
   "id": "142dde4f",
   "metadata": {},
   "outputs": [],
   "source": [
    "%load_ext autoreload\n",
    "%autoreload 2\n",
    "import numpy as np\n",
    "from tqdm.notebook import tqdm\n",
    "from scipy.stats import norm\n",
    "\n",
    "from methods import *\n",
    "from utils import *"
   ]
  },
  {
   "cell_type": "markdown",
   "id": "d34f8bf0-95d1-4d05-983f-7cd3bd2a62ac",
   "metadata": {},
   "source": [
    "We sample $X \\sim N(\\theta, \\Sigma)$, where $\\theta$ is an $m$-dimensional mean vector, for varying $m$. We set\n",
    "$$\\theta_i = \\begin{cases}\n",
    "0, &i\\in\\{1,\\dots,m_W \\}\\\\\n",
    "-c \\cdot r_{\\mathrm{sim}}, &i\\in\\{m_W +1,\\dots,m\\},\n",
    "\\end{cases}$$\n",
    "where $m_W$ is a varying number of population winners, $c >0$ is a varying constant, and $r_{\\mathrm{sim}}$ is the radius of the fully simultaneous interval. The covariance matrix $\\Sigma$ has $\\Sigma_{ii} = 1$ and $\\Sigma_{ij} = \\rho$ for $i\\neq j$.\n",
    "\n",
    "When $\\rho\\neq 0$, SoS intervals are not applicable."
   ]
  },
  {
   "cell_type": "code",
   "execution_count": null,
   "id": "8908e5ed",
   "metadata": {},
   "outputs": [],
   "source": [
    "# simulation params\n",
    "trials = 100\n",
    "ms = [10, 10, 100] # number of candidates\n",
    "alpha = 0.1 # error level\n",
    "nu = 0.01 # error splitting param for LSI\n",
    "beta = 0.01 # error splitting param for hybrid\n",
    "mWs = range(1,10) # number of population winners\n",
    "c = 8 # gap multiplier (see description above)\n",
    "rho = 0 # correlation param (see description above)\n",
    "\n",
    "for m in ms:\n",
    "    cond_widths = np.zeros((len(mWs), trials))\n",
    "    hybrid_widths = np.zeros((len(mWs), trials))\n",
    "    LSI_widths = np.zeros((len(mWs), trials))\n",
    "    zoom_grid_widths = np.zeros((len(mWs), trials))\n",
    "    zoom_stepdown_widths = np.zeros((len(mWs), trials))\n",
    "\n",
    "    Sigma = np.ones((m,m))*rho + (1-rho)*np.eye(m)\n",
    "    plausible_gap = 4*max_z_width(Sigma, nu)\n",
    "    losers_val = -c*max_z_width(Sigma, alpha)\n",
    "\n",
    "    for i in tqdm(range(len(mWs))):\n",
    "        mW = mWs[i]\n",
    "        theta = np.zeros(m)\n",
    "        theta[mW:] = losers_val\n",
    "        \n",
    "        for j in tqdm(range(trials)):\n",
    "            X = theta + np.random.normal(size=m)\n",
    "            ihat = np.argmax(X)\n",
    "        \n",
    "            # zoom (grid search)\n",
    "            zoom_grid_int = zoom_grid(X, Sigma, alpha=alpha)\n",
    "            \n",
    "            # zoom (step-down)\n",
    "            zoom_stepdown_int = zoom_stepdown(X, np.sqrt(Sigma[0,0]), alpha = alpha)\n",
    "        \n",
    "            # locally simultaneous\n",
    "            LSI_int = locally_simultaneous_inference(X, Sigma, plausible_gap, alpha=alpha, nu=nu)\n",
    "        \n",
    "            # conditional\n",
    "            A, b = inference_on_winner_polyhedron(m, ihat)\n",
    "            eta = np.zeros(m)\n",
    "            eta[ihat] = 1\n",
    "            cond_int = conditional_inference(X, Sigma, A, b, eta, alpha=alpha)\n",
    "        \n",
    "             # hybrid\n",
    "            hybrid_int = hybrid_inference(X, Sigma, A, b, eta, alpha=alpha, beta=beta)\n",
    "\n",
    "            zoom_grid_widths[i, j] = zoom_grid_int[1] - zoom_grid_int[0]\n",
    "            zoom_stepdown_widths[i, j] = zoom_stepdown_int[1] - zoom_stepdown_int[0]\n",
    "            LSI_widths[i, j] = LSI_int[1] - LSI_int[0]\n",
    "            cond_widths[i, j] = cond_int[1] - cond_int[0]\n",
    "            hybrid_widths[i, j] = hybrid_int[1] - hybrid_int[0]\n",
    "\n",
    "    if rho == 0:\n",
    "        SoS_width = norm.isf(alpha/(2)) + norm.isf(alpha/(2*m))\n",
    "    else:\n",
    "        SoS_width = None # SoS won't be plotted\n",
    "\n",
    "    plot_title = 'm = ' + str(m) + ', c = ' + str(c) + ', ρ = ' + str(rho)\n",
    "    ylabel = 'interval width'\n",
    "    xlabel = 'number of population winners'\n",
    "    filename = 'plots/num_winners_corr' + str(rho) + 'm' + str(m) + 'trials' + str(trials) + 'gap' + str(c) + '.pdf'\n",
    "    plot_and_save_results(mWs, zoom_grid_widths, zoom_stepdown_widths, LSI_widths, cond_widths, hybrid_widths, plot_title, ylabel, xlabel, filename, SoS_width=SoS_width, alpha=0.1, legend=True, ylim=[3,9])"
   ]
  },
  {
   "cell_type": "code",
   "execution_count": null,
   "id": "fd39bbd1-37b2-4332-91ca-168507ca5e77",
   "metadata": {},
   "outputs": [],
   "source": []
  }
 ],
 "metadata": {
  "kernelspec": {
   "display_name": "Python 3 (ipykernel)",
   "language": "python",
   "name": "python3"
  },
  "language_info": {
   "codemirror_mode": {
    "name": "ipython",
    "version": 3
   },
   "file_extension": ".py",
   "mimetype": "text/x-python",
   "name": "python",
   "nbconvert_exporter": "python",
   "pygments_lexer": "ipython3",
   "version": "3.11.5"
  }
 },
 "nbformat": 4,
 "nbformat_minor": 5
}
